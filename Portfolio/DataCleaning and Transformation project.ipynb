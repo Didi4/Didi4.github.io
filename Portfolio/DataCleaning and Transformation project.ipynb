{
 "cells": [
  {
   "cell_type": "code",
   "execution_count": 1,
   "id": "a57f42f6",
   "metadata": {},
   "outputs": [],
   "source": [
    "import numpy as np\n",
    "import pandas as pd\n",
    "import re"
   ]
  },
  {
   "cell_type": "code",
   "execution_count": 2,
   "id": "08a30122",
   "metadata": {},
   "outputs": [
    {
     "name": "stderr",
     "output_type": "stream",
     "text": [
      "/var/folders/gb/w4d_j72s4vb5n9fdl5qcclbh0000gn/T/ipykernel_44585/1934752076.py:2: DtypeWarning: Columns (76) have mixed types. Specify dtype option on import or set low_memory=False.\n",
      "  data = pd.read_csv(\"fifa21_raw_data.csv\")\n"
     ]
    }
   ],
   "source": [
    "#import fifa21 file from desktop\n",
    "data = pd.read_csv(\"fifa21_raw_data.csv\")"
   ]
  },
  {
   "cell_type": "markdown",
   "id": "73868a5c",
   "metadata": {},
   "source": [
    "### Data Preprocessing"
   ]
  },
  {
   "cell_type": "code",
   "execution_count": 3,
   "id": "11d000ff",
   "metadata": {},
   "outputs": [
    {
     "name": "stdout",
     "output_type": "stream",
     "text": [
      "<class 'pandas.core.frame.DataFrame'>\n",
      "RangeIndex: 18979 entries, 0 to 18978\n",
      "Data columns (total 77 columns):\n",
      " #   Column            Non-Null Count  Dtype \n",
      "---  ------            --------------  ----- \n",
      " 0   photoUrl          18979 non-null  object\n",
      " 1   LongName          18979 non-null  object\n",
      " 2   playerUrl         18979 non-null  object\n",
      " 3   Nationality       18979 non-null  object\n",
      " 4   Positions         18979 non-null  object\n",
      " 5   Name              18979 non-null  object\n",
      " 6   Age               18979 non-null  int64 \n",
      " 7   ↓OVA              18979 non-null  int64 \n",
      " 8   POT               18979 non-null  int64 \n",
      " 9   Team & Contract   18979 non-null  object\n",
      " 10  ID                18979 non-null  int64 \n",
      " 11  Height            18979 non-null  object\n",
      " 12  Weight            18979 non-null  object\n",
      " 13  foot              18979 non-null  object\n",
      " 14  BOV               18979 non-null  int64 \n",
      " 15  BP                18979 non-null  object\n",
      " 16  Growth            18979 non-null  int64 \n",
      " 17  Joined            18979 non-null  object\n",
      " 18  Loan Date End     1013 non-null   object\n",
      " 19  Value             18979 non-null  object\n",
      " 20  Wage              18979 non-null  object\n",
      " 21  Release Clause    18979 non-null  object\n",
      " 22  Attacking         18979 non-null  int64 \n",
      " 23  Crossing          18979 non-null  int64 \n",
      " 24  Finishing         18979 non-null  int64 \n",
      " 25  Heading Accuracy  18979 non-null  int64 \n",
      " 26  Short Passing     18979 non-null  int64 \n",
      " 27  Volleys           18979 non-null  int64 \n",
      " 28  Skill             18979 non-null  int64 \n",
      " 29  Dribbling         18979 non-null  int64 \n",
      " 30  Curve             18979 non-null  int64 \n",
      " 31  FK Accuracy       18979 non-null  int64 \n",
      " 32  Long Passing      18979 non-null  int64 \n",
      " 33  Ball Control      18979 non-null  int64 \n",
      " 34  Movement          18979 non-null  int64 \n",
      " 35  Acceleration      18979 non-null  int64 \n",
      " 36  Sprint Speed      18979 non-null  int64 \n",
      " 37  Agility           18979 non-null  int64 \n",
      " 38  Reactions         18979 non-null  int64 \n",
      " 39  Balance           18979 non-null  int64 \n",
      " 40  Power             18979 non-null  int64 \n",
      " 41  Shot Power        18979 non-null  int64 \n",
      " 42  Jumping           18979 non-null  int64 \n",
      " 43  Stamina           18979 non-null  int64 \n",
      " 44  Strength          18979 non-null  int64 \n",
      " 45  Long Shots        18979 non-null  int64 \n",
      " 46  Mentality         18979 non-null  int64 \n",
      " 47  Aggression        18979 non-null  int64 \n",
      " 48  Interceptions     18979 non-null  int64 \n",
      " 49  Positioning       18979 non-null  int64 \n",
      " 50  Vision            18979 non-null  int64 \n",
      " 51  Penalties         18979 non-null  int64 \n",
      " 52  Composure         18979 non-null  int64 \n",
      " 53  Defending         18979 non-null  int64 \n",
      " 54  Marking           18979 non-null  int64 \n",
      " 55  Standing Tackle   18979 non-null  int64 \n",
      " 56  Sliding Tackle    18979 non-null  int64 \n",
      " 57  Goalkeeping       18979 non-null  int64 \n",
      " 58  GK Diving         18979 non-null  int64 \n",
      " 59  GK Handling       18979 non-null  int64 \n",
      " 60  GK Kicking        18979 non-null  int64 \n",
      " 61  GK Positioning    18979 non-null  int64 \n",
      " 62  GK Reflexes       18979 non-null  int64 \n",
      " 63  Total Stats       18979 non-null  int64 \n",
      " 64  Base Stats        18979 non-null  int64 \n",
      " 65  W/F               18979 non-null  object\n",
      " 66  SM                18979 non-null  object\n",
      " 67  A/W               18979 non-null  object\n",
      " 68  D/W               18979 non-null  object\n",
      " 69  IR                18979 non-null  object\n",
      " 70  PAC               18979 non-null  int64 \n",
      " 71  SHO               18979 non-null  int64 \n",
      " 72  PAS               18979 non-null  int64 \n",
      " 73  DRI               18979 non-null  int64 \n",
      " 74  DEF               18979 non-null  int64 \n",
      " 75  PHY               18979 non-null  int64 \n",
      " 76  Hits              18979 non-null  object\n",
      "dtypes: int64(55), object(22)\n",
      "memory usage: 11.1+ MB\n"
     ]
    }
   ],
   "source": [
    "data.info()"
   ]
  },
  {
   "cell_type": "code",
   "execution_count": 4,
   "id": "c375c443",
   "metadata": {},
   "outputs": [
    {
     "data": {
      "text/html": [
       "<div>\n",
       "<style scoped>\n",
       "    .dataframe tbody tr th:only-of-type {\n",
       "        vertical-align: middle;\n",
       "    }\n",
       "\n",
       "    .dataframe tbody tr th {\n",
       "        vertical-align: top;\n",
       "    }\n",
       "\n",
       "    .dataframe thead th {\n",
       "        text-align: right;\n",
       "    }\n",
       "</style>\n",
       "<table border=\"1\" class=\"dataframe\">\n",
       "  <thead>\n",
       "    <tr style=\"text-align: right;\">\n",
       "      <th></th>\n",
       "      <th>photoUrl</th>\n",
       "      <th>LongName</th>\n",
       "      <th>playerUrl</th>\n",
       "      <th>Nationality</th>\n",
       "      <th>Positions</th>\n",
       "      <th>Name</th>\n",
       "      <th>Team &amp; Contract</th>\n",
       "      <th>Height</th>\n",
       "      <th>Weight</th>\n",
       "      <th>foot</th>\n",
       "      <th>...</th>\n",
       "      <th>Loan Date End</th>\n",
       "      <th>Value</th>\n",
       "      <th>Wage</th>\n",
       "      <th>Release Clause</th>\n",
       "      <th>W/F</th>\n",
       "      <th>SM</th>\n",
       "      <th>A/W</th>\n",
       "      <th>D/W</th>\n",
       "      <th>IR</th>\n",
       "      <th>Hits</th>\n",
       "    </tr>\n",
       "  </thead>\n",
       "  <tbody>\n",
       "    <tr>\n",
       "      <th>count</th>\n",
       "      <td>18979</td>\n",
       "      <td>18979</td>\n",
       "      <td>18979</td>\n",
       "      <td>18979</td>\n",
       "      <td>18979</td>\n",
       "      <td>18979</td>\n",
       "      <td>18979</td>\n",
       "      <td>18979</td>\n",
       "      <td>18979</td>\n",
       "      <td>18979</td>\n",
       "      <td>...</td>\n",
       "      <td>1013</td>\n",
       "      <td>18979</td>\n",
       "      <td>18979</td>\n",
       "      <td>18979</td>\n",
       "      <td>18979</td>\n",
       "      <td>18979</td>\n",
       "      <td>18979</td>\n",
       "      <td>18979</td>\n",
       "      <td>18979</td>\n",
       "      <td>18979</td>\n",
       "    </tr>\n",
       "    <tr>\n",
       "      <th>unique</th>\n",
       "      <td>18978</td>\n",
       "      <td>18851</td>\n",
       "      <td>18978</td>\n",
       "      <td>164</td>\n",
       "      <td>640</td>\n",
       "      <td>17919</td>\n",
       "      <td>9023</td>\n",
       "      <td>21</td>\n",
       "      <td>56</td>\n",
       "      <td>2</td>\n",
       "      <td>...</td>\n",
       "      <td>24</td>\n",
       "      <td>214</td>\n",
       "      <td>141</td>\n",
       "      <td>1216</td>\n",
       "      <td>5</td>\n",
       "      <td>5</td>\n",
       "      <td>3</td>\n",
       "      <td>3</td>\n",
       "      <td>5</td>\n",
       "      <td>408</td>\n",
       "    </tr>\n",
       "    <tr>\n",
       "      <th>top</th>\n",
       "      <td>https://cdn.sofifa.com/players/251/698/21_60.png</td>\n",
       "      <td>Liam Kelly</td>\n",
       "      <td>http://sofifa.com/player/251698/kevin-berlaso/...</td>\n",
       "      <td>England</td>\n",
       "      <td>CB</td>\n",
       "      <td>J. Rodríguez</td>\n",
       "      <td>\\n India\\nFree\\n\\n</td>\n",
       "      <td>6'0\"</td>\n",
       "      <td>154lbs</td>\n",
       "      <td>Right</td>\n",
       "      <td>...</td>\n",
       "      <td>Jun 30, 2021</td>\n",
       "      <td>€1.1M</td>\n",
       "      <td>€2K</td>\n",
       "      <td>€0</td>\n",
       "      <td>3 ★</td>\n",
       "      <td>2★</td>\n",
       "      <td>Medium</td>\n",
       "      <td>Medium</td>\n",
       "      <td>1 ★</td>\n",
       "      <td>\\n1</td>\n",
       "    </tr>\n",
       "    <tr>\n",
       "      <th>freq</th>\n",
       "      <td>2</td>\n",
       "      <td>3</td>\n",
       "      <td>2</td>\n",
       "      <td>1704</td>\n",
       "      <td>2441</td>\n",
       "      <td>13</td>\n",
       "      <td>29</td>\n",
       "      <td>2859</td>\n",
       "      <td>1496</td>\n",
       "      <td>14445</td>\n",
       "      <td>...</td>\n",
       "      <td>770</td>\n",
       "      <td>467</td>\n",
       "      <td>2997</td>\n",
       "      <td>1262</td>\n",
       "      <td>11695</td>\n",
       "      <td>9142</td>\n",
       "      <td>12700</td>\n",
       "      <td>13956</td>\n",
       "      <td>17628</td>\n",
       "      <td>3216</td>\n",
       "    </tr>\n",
       "  </tbody>\n",
       "</table>\n",
       "<p>4 rows × 22 columns</p>\n",
       "</div>"
      ],
      "text/plain": [
       "                                                photoUrl    LongName  \\\n",
       "count                                              18979       18979   \n",
       "unique                                             18978       18851   \n",
       "top     https://cdn.sofifa.com/players/251/698/21_60.png  Liam Kelly   \n",
       "freq                                                   2           3   \n",
       "\n",
       "                                                playerUrl Nationality  \\\n",
       "count                                               18979       18979   \n",
       "unique                                              18978         164   \n",
       "top     http://sofifa.com/player/251698/kevin-berlaso/...     England   \n",
       "freq                                                    2        1704   \n",
       "\n",
       "       Positions          Name     Team & Contract Height  Weight   foot  ...  \\\n",
       "count      18979         18979               18979  18979   18979  18979  ...   \n",
       "unique       640         17919                9023     21      56      2  ...   \n",
       "top           CB  J. Rodríguez  \\n India\\nFree\\n\\n   6'0\"  154lbs  Right  ...   \n",
       "freq        2441            13                  29   2859    1496  14445  ...   \n",
       "\n",
       "       Loan Date End  Value   Wage Release Clause    W/F     SM     A/W  \\\n",
       "count           1013  18979  18979          18979  18979  18979   18979   \n",
       "unique            24    214    141           1216      5      5       3   \n",
       "top     Jun 30, 2021  €1.1M    €2K             €0    3 ★     2★  Medium   \n",
       "freq             770    467   2997           1262  11695   9142   12700   \n",
       "\n",
       "           D/W     IR   Hits  \n",
       "count    18979  18979  18979  \n",
       "unique       3      5    408  \n",
       "top     Medium    1 ★    \\n1  \n",
       "freq     13956  17628   3216  \n",
       "\n",
       "[4 rows x 22 columns]"
      ]
     },
     "execution_count": 4,
     "metadata": {},
     "output_type": "execute_result"
    }
   ],
   "source": [
    "data.describe(include=\"object\")"
   ]
  },
  {
   "cell_type": "code",
   "execution_count": 5,
   "id": "3522e1bf",
   "metadata": {},
   "outputs": [],
   "source": [
    "#convert height to cm then change dtype to float\n",
    "def convert_ht(ht):\n",
    "    ht_ = ht.split(\"'\") \n",
    "    ft = float(ht_[0])\n",
    "    in_ = float(ht_[1].replace(\"\\\"\",\"\"))\n",
    "    cm = ((12*ft) + in_ )*2.54\n",
    "    return cm\n",
    "\n",
    "data[\"Height\"] = data[\"Height\"].apply(lambda x: convert_ht(x))"
   ]
  },
  {
   "cell_type": "code",
   "execution_count": 6,
   "id": "54b3a4e6",
   "metadata": {},
   "outputs": [],
   "source": [
    "#convert weight to kg then change dtype to float\n",
    "def convert_wt(wt):\n",
    "    wt_ = wt.split(\"lbs\") \n",
    "    lb = float(wt_[0])\n",
    "    kg = round(lb*0.45359237,1)\n",
    "    return kg\n",
    "\n",
    "data[\"Weight\"] = data[\"Weight\"].apply(lambda x: convert_wt(x))"
   ]
  },
  {
   "cell_type": "code",
   "execution_count": 7,
   "id": "9a696faf",
   "metadata": {},
   "outputs": [
    {
     "data": {
      "text/plain": [
       "Jul 1, 2019     1344\n",
       "Jul 1, 2018      865\n",
       "Jan 1, 2019      682\n",
       "Jul 1, 2017      520\n",
       "Jul 1, 2020      435\n",
       "                ... \n",
       "May 17, 2018       1\n",
       "Feb 25, 2015       1\n",
       "Jun 1, 2005        1\n",
       "Sep 10, 2016       1\n",
       "Feb 28, 2015       1\n",
       "Name: Joined, Length: 1869, dtype: int64"
      ]
     },
     "execution_count": 7,
     "metadata": {},
     "output_type": "execute_result"
    }
   ],
   "source": [
    "data.Joined.value_counts()"
   ]
  },
  {
   "cell_type": "code",
   "execution_count": 8,
   "id": "0b2c5d22",
   "metadata": {},
   "outputs": [],
   "source": [
    "month_dict = {\n",
    "    'jan' : 1,\n",
    "    'feb' : 2,\n",
    "    'mar' : 3,\n",
    "    'apr' : 4,\n",
    "    'may' : 5,\n",
    "    'jun' : 6,\n",
    "    'jul' : 7,\n",
    "    'aug' : 8,\n",
    "    'sep' : 9,\n",
    "    'oct' : 10,\n",
    "    'nov' : 11,\n",
    "    'dec' : 12,\n",
    "}\n",
    "\n",
    "#convert column joined date fro easy splitting\n",
    "def convertDay(date: str):\n",
    "    month, day, year = re.findall(pattern=r\"\\w+\", string=date) #select each individual attribute \n",
    "    month = month_dict.get(month.lower()) #using the month dictionary asign the appropriate value to each month\n",
    "    if month != None and month/10 < 1: month = f\"0{month}\" #if a month is <10 add a 0 in front of it\n",
    "    if day != None and len(day) < 2: day = f\"0{day}\" #if a day is < 10 add a 0 in front of it\n",
    "    return f\"{year}-{month}-{day}\" #return a new date in format \"2019-01-07\" \n",
    "\n",
    "data.Joined = data.Joined.apply(convertDay)"
   ]
  },
  {
   "cell_type": "code",
   "execution_count": 9,
   "id": "22caa06f",
   "metadata": {},
   "outputs": [
    {
     "data": {
      "text/plain": [
       "['2004', '07', '01']"
      ]
     },
     "execution_count": 9,
     "metadata": {},
     "output_type": "execute_result"
    }
   ],
   "source": [
    "blah = data[\"Joined\"][0].split(\"-\")\n",
    "blah"
   ]
  },
  {
   "cell_type": "code",
   "execution_count": 10,
   "id": "98695737",
   "metadata": {},
   "outputs": [],
   "source": [
    "data[[\"year\", \"month\", \"day\"]] = data[\"Joined\"].str.split(\"-\", expand = True)"
   ]
  },
  {
   "cell_type": "code",
   "execution_count": 11,
   "id": "db5be109",
   "metadata": {},
   "outputs": [
    {
     "data": {
      "text/plain": [
       "0        €67.5M\n",
       "1          €46M\n",
       "2          €75M\n",
       "3          €87M\n",
       "4          €90M\n",
       "          ...  \n",
       "18974      €35K\n",
       "18975      €60K\n",
       "18976      €40K\n",
       "18977      €60K\n",
       "18978      €60K\n",
       "Name: Value, Length: 18979, dtype: object"
      ]
     },
     "execution_count": 11,
     "metadata": {},
     "output_type": "execute_result"
    }
   ],
   "source": [
    "data.Value"
   ]
  },
  {
   "cell_type": "code",
   "execution_count": 12,
   "id": "c3859f7b",
   "metadata": {},
   "outputs": [],
   "source": [
    "def convertMoney(money: str):\n",
    "    value = pd.to_numeric(re.findall(pattern=r\"\\d+\\.?\\d+|\\d\", string=money))[0]\n",
    "    if value == 0:\n",
    "        value = 0\n",
    "    if \"M\" in money:\n",
    "        value *= 1000000\n",
    "    elif \"K\" in money:\n",
    "        value *= 1000\n",
    "    return str(int(value))"
   ]
  },
  {
   "cell_type": "code",
   "execution_count": 13,
   "id": "c390317f",
   "metadata": {},
   "outputs": [],
   "source": [
    "data.Value = pd.to_numeric(data.Value.apply(convertMoney))"
   ]
  },
  {
   "cell_type": "code",
   "execution_count": 14,
   "id": "d500b942",
   "metadata": {},
   "outputs": [
    {
     "data": {
      "text/plain": [
       "0        67500000\n",
       "1        46000000\n",
       "2        75000000\n",
       "3        87000000\n",
       "4        90000000\n",
       "           ...   \n",
       "18974       35000\n",
       "18975       60000\n",
       "18976       40000\n",
       "18977       60000\n",
       "18978       60000\n",
       "Name: Value, Length: 18979, dtype: int64"
      ]
     },
     "execution_count": 14,
     "metadata": {},
     "output_type": "execute_result"
    }
   ],
   "source": [
    "data.Value"
   ]
  },
  {
   "cell_type": "code",
   "execution_count": 15,
   "id": "5c570dde",
   "metadata": {},
   "outputs": [],
   "source": [
    "data.Wage = pd.to_numeric(data.Wage.apply(convertMoney))\n",
    "data['Release Clause'] = pd.to_numeric(data['Release Clause'].apply(convertMoney))"
   ]
  },
  {
   "cell_type": "code",
   "execution_count": 16,
   "id": "0e16608c",
   "metadata": {},
   "outputs": [
    {
     "data": {
      "text/plain": [
       "0        560000\n",
       "1        220000\n",
       "2        125000\n",
       "3        370000\n",
       "4        270000\n",
       "          ...  \n",
       "18974      1000\n",
       "18975       500\n",
       "18976      1000\n",
       "18977       500\n",
       "18978       500\n",
       "Name: Wage, Length: 18979, dtype: int64"
      ]
     },
     "execution_count": 16,
     "metadata": {},
     "output_type": "execute_result"
    }
   ],
   "source": [
    "data.Wage"
   ]
  },
  {
   "cell_type": "code",
   "execution_count": 17,
   "id": "2739a5c3",
   "metadata": {},
   "outputs": [
    {
     "data": {
      "text/plain": [
       "0        \\n372\n",
       "1        \\n344\n",
       "2         \\n86\n",
       "3        \\n163\n",
       "4        \\n273\n",
       "         ...  \n",
       "18974        2\n",
       "18975        3\n",
       "18976        3\n",
       "18977        5\n",
       "18978        2\n",
       "Name: Hits, Length: 18979, dtype: object"
      ]
     },
     "execution_count": 17,
     "metadata": {},
     "output_type": "execute_result"
    }
   ],
   "source": [
    "data.Hits"
   ]
  },
  {
   "cell_type": "code",
   "execution_count": 18,
   "id": "0709c846",
   "metadata": {},
   "outputs": [],
   "source": [
    "data['Hits'] = data['Hits'].astype(str)"
   ]
  },
  {
   "cell_type": "code",
   "execution_count": 19,
   "id": "1cb74531",
   "metadata": {},
   "outputs": [
    {
     "data": {
      "text/plain": [
       "0        \\n372\n",
       "1        \\n344\n",
       "2         \\n86\n",
       "3        \\n163\n",
       "4        \\n273\n",
       "         ...  \n",
       "18974        2\n",
       "18975        3\n",
       "18976        3\n",
       "18977        5\n",
       "18978        2\n",
       "Name: Hits, Length: 18979, dtype: object"
      ]
     },
     "execution_count": 19,
     "metadata": {},
     "output_type": "execute_result"
    }
   ],
   "source": [
    "data.Hits"
   ]
  },
  {
   "cell_type": "code",
   "execution_count": 20,
   "id": "04e3f79e",
   "metadata": {},
   "outputs": [
    {
     "data": {
      "text/plain": [
       "'372'"
      ]
     },
     "execution_count": 20,
     "metadata": {},
     "output_type": "execute_result"
    }
   ],
   "source": [
    "data.Hits[0].replace(\"\\n\",\"\")"
   ]
  },
  {
   "cell_type": "code",
   "execution_count": 21,
   "id": "67078771",
   "metadata": {},
   "outputs": [],
   "source": [
    "data['Hits'] = data['Hits'].apply(lambda x: re.sub(pattern=\"\\n\", repl=\"\", string=x))"
   ]
  },
  {
   "cell_type": "code",
   "execution_count": 22,
   "id": "773051d7",
   "metadata": {},
   "outputs": [
    {
     "data": {
      "text/plain": [
       "0        372\n",
       "1        344\n",
       "2         86\n",
       "3        163\n",
       "4        273\n",
       "        ... \n",
       "18974      2\n",
       "18975      3\n",
       "18976      3\n",
       "18977      5\n",
       "18978      2\n",
       "Name: Hits, Length: 18979, dtype: object"
      ]
     },
     "execution_count": 22,
     "metadata": {},
     "output_type": "execute_result"
    }
   ],
   "source": [
    "data.Hits"
   ]
  },
  {
   "cell_type": "code",
   "execution_count": 23,
   "id": "ab4d9834",
   "metadata": {},
   "outputs": [
    {
     "data": {
      "text/plain": [
       "0                    \\n\\n\\n\\nFC Barcelona\\n2004 ~ 2021\\n\\n\n",
       "1                        \\n\\n\\n\\nJuventus\\n2018 ~ 2022\\n\\n\n",
       "2                 \\n\\n\\n\\nAtlético Madrid\\n2014 ~ 2023\\n\\n\n",
       "3                 \\n\\n\\n\\nManchester City\\n2015 ~ 2023\\n\\n\n",
       "4             \\n\\n\\n\\nParis Saint-Germain\\n2017 ~ 2022\\n\\n\n",
       "                               ...                        \n",
       "18974    \\n\\n\\n\\nChongqing Dangdai Lifan FC SWM Team\\n2...\n",
       "18975             \\n\\n\\n\\nOldham Athletic\\n2020 ~ 2021\\n\\n\n",
       "18976                  \\n\\n\\n\\nWuhan Zall\\n2018 ~ 2022\\n\\n\n",
       "18977             \\n\\n\\n\\nOldham Athletic\\n2020 ~ 2021\\n\\n\n",
       "18978                \\n\\n\\n\\nClub Bolívar\\n2020 ~ 2024\\n\\n\n",
       "Name: Team & Contract, Length: 18979, dtype: object"
      ]
     },
     "execution_count": 23,
     "metadata": {},
     "output_type": "execute_result"
    }
   ],
   "source": [
    "data[\"Team & Contract\"]"
   ]
  },
  {
   "cell_type": "code",
   "execution_count": 25,
   "id": "25d2fd68",
   "metadata": {},
   "outputs": [],
   "source": [
    "data[\"Team & Contract\"] = data[\"Team & Contract\"].str.replace('\\n\\n\\n\\n', '')"
   ]
  },
  {
   "cell_type": "code",
   "execution_count": 26,
   "id": "78003096",
   "metadata": {},
   "outputs": [
    {
     "data": {
      "text/plain": [
       "0                            FC Barcelona\\n2004 ~ 2021\\n\\n\n",
       "1                                Juventus\\n2018 ~ 2022\\n\\n\n",
       "2                         Atlético Madrid\\n2014 ~ 2023\\n\\n\n",
       "3                         Manchester City\\n2015 ~ 2023\\n\\n\n",
       "4                     Paris Saint-Germain\\n2017 ~ 2022\\n\\n\n",
       "                               ...                        \n",
       "18974    Chongqing Dangdai Lifan FC SWM Team\\n2020 ~ 20...\n",
       "18975                     Oldham Athletic\\n2020 ~ 2021\\n\\n\n",
       "18976                          Wuhan Zall\\n2018 ~ 2022\\n\\n\n",
       "18977                     Oldham Athletic\\n2020 ~ 2021\\n\\n\n",
       "18978                        Club Bolívar\\n2020 ~ 2024\\n\\n\n",
       "Name: Team & Contract, Length: 18979, dtype: object"
      ]
     },
     "execution_count": 26,
     "metadata": {},
     "output_type": "execute_result"
    }
   ],
   "source": [
    "data[\"Team & Contract\"]"
   ]
  },
  {
   "cell_type": "code",
   "execution_count": 27,
   "id": "4d303957",
   "metadata": {},
   "outputs": [],
   "source": [
    "data[\"Team & Contract\"] = data[\"Team & Contract\"].str.replace('\\n\\n', '')"
   ]
  },
  {
   "cell_type": "code",
   "execution_count": 28,
   "id": "a3440328",
   "metadata": {},
   "outputs": [
    {
     "data": {
      "text/plain": [
       "0                               FC Barcelona\\n2004 ~ 2021\n",
       "1                                   Juventus\\n2018 ~ 2022\n",
       "2                            Atlético Madrid\\n2014 ~ 2023\n",
       "3                            Manchester City\\n2015 ~ 2023\n",
       "4                        Paris Saint-Germain\\n2017 ~ 2022\n",
       "                               ...                       \n",
       "18974    Chongqing Dangdai Lifan FC SWM Team\\n2020 ~ 2020\n",
       "18975                        Oldham Athletic\\n2020 ~ 2021\n",
       "18976                             Wuhan Zall\\n2018 ~ 2022\n",
       "18977                        Oldham Athletic\\n2020 ~ 2021\n",
       "18978                           Club Bolívar\\n2020 ~ 2024\n",
       "Name: Team & Contract, Length: 18979, dtype: object"
      ]
     },
     "execution_count": 28,
     "metadata": {},
     "output_type": "execute_result"
    }
   ],
   "source": [
    "data[\"Team & Contract\"]"
   ]
  },
  {
   "cell_type": "code",
   "execution_count": 29,
   "id": "ecc412a3",
   "metadata": {},
   "outputs": [],
   "source": [
    "team, contract = data[\"Team & Contract\"][0].split(\"\\n\")"
   ]
  },
  {
   "cell_type": "code",
   "execution_count": 31,
   "id": "a189ac73",
   "metadata": {},
   "outputs": [
    {
     "data": {
      "text/plain": [
       "'2004 ~ 2021'"
      ]
     },
     "execution_count": 31,
     "metadata": {},
     "output_type": "execute_result"
    }
   ],
   "source": [
    "contract"
   ]
  },
  {
   "cell_type": "code",
   "execution_count": 35,
   "id": "2c5fbe06",
   "metadata": {},
   "outputs": [],
   "source": [
    "data[[\"Team\", \"Contract\"]] = data[\"Team & Contract\"].str.split(\"\\n\", expand = True, n=1)"
   ]
  },
  {
   "cell_type": "code",
   "execution_count": 42,
   "id": "888110b8",
   "metadata": {},
   "outputs": [
    {
     "data": {
      "text/plain": [
       "0                               FC Barcelona\n",
       "1                                   Juventus\n",
       "2                            Atlético Madrid\n",
       "3                            Manchester City\n",
       "4                        Paris Saint-Germain\n",
       "                        ...                 \n",
       "18974    Chongqing Dangdai Lifan FC SWM Team\n",
       "18975                        Oldham Athletic\n",
       "18976                             Wuhan Zall\n",
       "18977                        Oldham Athletic\n",
       "18978                           Club Bolívar\n",
       "Name: Team, Length: 18979, dtype: object"
      ]
     },
     "execution_count": 42,
     "metadata": {},
     "output_type": "execute_result"
    }
   ],
   "source": [
    "data.Team"
   ]
  },
  {
   "cell_type": "code",
   "execution_count": 54,
   "id": "4b6eac86",
   "metadata": {},
   "outputs": [],
   "source": [
    "def sortContract(contract: str):\n",
    "    if \"\\n\" in contract:\n",
    "        contract = contract.split(\"\\n\")[1]\n",
    "    return contract"
   ]
  },
  {
   "cell_type": "code",
   "execution_count": 55,
   "id": "69dee0e3",
   "metadata": {},
   "outputs": [],
   "source": [
    "data.Contract = data.Contract.apply(sortContract)"
   ]
  },
  {
   "cell_type": "code",
   "execution_count": 57,
   "id": "09b0ea2f",
   "metadata": {},
   "outputs": [
    {
     "data": {
      "text/plain": [
       "0        2004 ~ 2021\n",
       "1        2018 ~ 2022\n",
       "2        2014 ~ 2023\n",
       "3        2015 ~ 2023\n",
       "4        2017 ~ 2022\n",
       "            ...     \n",
       "18974    2020 ~ 2020\n",
       "18975    2020 ~ 2021\n",
       "18976    2018 ~ 2022\n",
       "18977    2020 ~ 2021\n",
       "18978    2020 ~ 2024\n",
       "Name: Contract, Length: 18979, dtype: object"
      ]
     },
     "execution_count": 57,
     "metadata": {},
     "output_type": "execute_result"
    }
   ],
   "source": [
    "data.Contract"
   ]
  },
  {
   "cell_type": "code",
   "execution_count": 56,
   "id": "f93be65d",
   "metadata": {},
   "outputs": [
    {
     "data": {
      "text/plain": [
       "Series([], Name: Contract, dtype: int64)"
      ]
     },
     "execution_count": 56,
     "metadata": {},
     "output_type": "execute_result"
    }
   ],
   "source": [
    "data.Contract[data.Contract.str.contains(\"\\n\")].value_counts()"
   ]
  },
  {
   "cell_type": "code",
   "execution_count": 50,
   "id": "21382656",
   "metadata": {},
   "outputs": [
    {
     "data": {
      "text/plain": [
       "'blah'"
      ]
     },
     "execution_count": 50,
     "metadata": {},
     "output_type": "execute_result"
    }
   ],
   "source": [
    "string = 'blah-blah'\n",
    "test = string.split('-')[1]\n",
    "test"
   ]
  },
  {
   "cell_type": "code",
   "execution_count": null,
   "id": "af0e5484",
   "metadata": {},
   "outputs": [],
   "source": [
    "m = 4 \n",
    "data[[\"Team\", \"Contract\"]] = data[\"Team & Contract\"].str.split(\"-\", expand = True)"
   ]
  },
  {
   "cell_type": "code",
   "execution_count": 23,
   "id": "03073f89",
   "metadata": {},
   "outputs": [],
   "source": [
    "data[\"Team & Contract\"] = data[\"Team & Contract\"].apply(lambda x: re.sub(pattern=\"\\n\", repl=\"\", string=x))"
   ]
  },
  {
   "cell_type": "code",
   "execution_count": 24,
   "id": "3d44a1a1",
   "metadata": {},
   "outputs": [
    {
     "data": {
      "text/plain": [
       "0                               FC Barcelona2004 ~ 2021\n",
       "1                                   Juventus2018 ~ 2022\n",
       "2                            Atlético Madrid2014 ~ 2023\n",
       "3                            Manchester City2015 ~ 2023\n",
       "4                        Paris Saint-Germain2017 ~ 2022\n",
       "                              ...                      \n",
       "18974    Chongqing Dangdai Lifan FC SWM Team2020 ~ 2020\n",
       "18975                        Oldham Athletic2020 ~ 2021\n",
       "18976                             Wuhan Zall2018 ~ 2022\n",
       "18977                        Oldham Athletic2020 ~ 2021\n",
       "18978                           Club Bolívar2020 ~ 2024\n",
       "Name: Team & Contract, Length: 18979, dtype: object"
      ]
     },
     "execution_count": 24,
     "metadata": {},
     "output_type": "execute_result"
    }
   ],
   "source": [
    "data[\"Team & Contract\"]"
   ]
  },
  {
   "cell_type": "code",
   "execution_count": null,
   "id": "10f5b3ce",
   "metadata": {},
   "outputs": [],
   "source": []
  }
 ],
 "metadata": {
  "kernelspec": {
   "display_name": "Python 3 (ipykernel)",
   "language": "python",
   "name": "python3"
  },
  "language_info": {
   "codemirror_mode": {
    "name": "ipython",
    "version": 3
   },
   "file_extension": ".py",
   "mimetype": "text/x-python",
   "name": "python",
   "nbconvert_exporter": "python",
   "pygments_lexer": "ipython3",
   "version": "3.9.7"
  }
 },
 "nbformat": 4,
 "nbformat_minor": 5
}
